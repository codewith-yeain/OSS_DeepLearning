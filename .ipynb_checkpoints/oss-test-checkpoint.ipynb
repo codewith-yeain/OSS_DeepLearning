{
 "cells": [
  {
   "cell_type": "code",
   "execution_count": 1,
   "id": "0e99c841",
   "metadata": {},
   "outputs": [
    {
     "name": "stderr",
     "output_type": "stream",
     "text": [
      "'ls'은(는) 내부 또는 외부 명령, 실행할 수 있는 프로그램, 또는\n",
      "배치 파일이 아닙니다.\n"
     ]
    }
   ],
   "source": [
    "!ls"
   ]
  },
  {
   "cell_type": "code",
   "execution_count": 2,
   "id": "89caec5f",
   "metadata": {},
   "outputs": [
    {
     "name": "stdout",
     "output_type": "stream",
     "text": [
      " C 드라이브의 볼륨에는 이름이 없습니다.\n",
      " 볼륨 일련 번호: 526E-3354\n",
      "\n",
      " C:\\Users\\SM-PC\\Desktop\\컴퓨터비젼\\객체검출_관련_실습코드\\Pytorch+ONNX\\Yolov5s 디렉터리\n",
      "\n",
      "2024-03-03  오후 02:03    <DIR>          .\n",
      "2023-12-28  오후 09:27    <DIR>          ..\n",
      "2024-03-03  오후 02:03    <DIR>          .ipynb_checkpoints\n",
      "2023-12-30  오후 06:02           487,438 bus.jpg\n",
      "2023-12-31  오후 07:29           512,879 detection-result.jpg\n",
      "2023-12-30  오후 06:01           494,471 result.jpg\n",
      "2024-03-03  오후 02:03                72 Untitled.ipynb\n",
      "2024-03-03  오후 02:00         2,142,163 YOLOv5ONNXandTRT_IVPL2023.ipynb\n",
      "2023-12-30  오후 06:01        29,355,387 yolov5s.onnx\n",
      "2023-12-31  오후 07:11            11,340 Yolov5_Inference_Image.py\n",
      "2023-12-31  오후 07:27            11,907 Yolov5_Inference_webcam.py\n",
      "               8개 파일          33,015,657 바이트\n",
      "               3개 디렉터리  759,638,818,816 바이트 남음\n"
     ]
    }
   ],
   "source": [
    "!dir"
   ]
  },
  {
   "cell_type": "code",
   "execution_count": 3,
   "id": "5457a477",
   "metadata": {},
   "outputs": [],
   "source": [
    "x=100*100"
   ]
  },
  {
   "cell_type": "code",
   "execution_count": 5,
   "id": "15a232c1",
   "metadata": {},
   "outputs": [
    {
     "name": "stdout",
     "output_type": "stream",
     "text": [
      "%d 10000\n"
     ]
    }
   ],
   "source": [
    "print(\"%d\", x)"
   ]
  },
  {
   "cell_type": "code",
   "execution_count": null,
   "id": "d72a68b6",
   "metadata": {},
   "outputs": [],
   "source": []
  }
 ],
 "metadata": {
  "kernelspec": {
   "display_name": "Python 3 (ipykernel)",
   "language": "python",
   "name": "python3"
  },
  "language_info": {
   "codemirror_mode": {
    "name": "ipython",
    "version": 3
   },
   "file_extension": ".py",
   "mimetype": "text/x-python",
   "name": "python",
   "nbconvert_exporter": "python",
   "pygments_lexer": "ipython3",
   "version": "3.11.4"
  }
 },
 "nbformat": 4,
 "nbformat_minor": 5
}
